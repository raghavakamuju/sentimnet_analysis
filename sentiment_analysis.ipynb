{
  "nbformat": 4,
  "nbformat_minor": 0,
  "metadata": {
    "colab": {
      "provenance": []
    },
    "kernelspec": {
      "name": "python3",
      "display_name": "Python 3"
    },
    "language_info": {
      "name": "python"
    }
  },
  "cells": [
    {
      "cell_type": "code",
      "source": [
        "import numpy as np\n",
        "import pandas as pd\n",
        "import nltk\n",
        "import re\n",
        "from nltk.corpus import stopwords\n",
        "from nltk.stem import PorterStemmer\n",
        "from sklearn.feature_extraction.text import CountVectorizer\n",
        "from sklearn.model_selection import train_test_split\n",
        "from sklearn.linear_model import LogisticRegression\n",
        "import pickle\n",
        "\n",
        "df = pd.read_csv('/content/test (1).csv', encoding='ISO-8859-1')\n",
        "\n",
        "df[\"sentiment\"] = df[\"sentiment\"].fillna(df[\"sentiment\"].mode())\n",
        "df[\"sentiment\"] = df[\"sentiment\"].map({\"neutral\": 0, \"positive\": 1, \"negative\": -1})\n",
        "\n",
        "df.isnull().sum()\n",
        "df = df.dropna()\n",
        "\n",
        "corpus = []\n",
        "for i in range(0, len(df)):\n",
        "    message = re.sub('[^a-zA-z]', ' ', df[\"text\"][i])\n",
        "    message = message.lower()\n",
        "    message = message.split()\n",
        "    ss = PorterStemmer()\n",
        "    message = [ss.stem(words) for words in message if words not in stopwords.words(\"english\")]\n",
        "    message = \" \".join(message)\n",
        "    corpus.append(message)\n",
        "\n",
        "vectorizer = CountVectorizer()\n",
        "x_vec = vectorizer.fit_transform(corpus).toarray()\n",
        "x_train, x_test, y_train, y_test = train_test_split(x_vec, df[\"sentiment\"], test_size=0.2)\n",
        "\n",
        "lr = LogisticRegression()\n",
        "lr.fit(x_train, y_train)\n",
        "\n",
        "with open(\"/content/sentiment_model_5.pkl\", \"wb\") as f:\n",
        "    pickle.dump(lr, f)"
      ],
      "metadata": {
        "id": "M6zfzOiMDzD_"
      },
      "execution_count": null,
      "outputs": []
    },
    {
      "cell_type": "code",
      "source": [
        "x_test_input=[\"the order was great\"]\n",
        "x_vectorized=vectorizer.transform(x_test_input).toarray()\n",
        "lr.predict(x_vectorized)\n"
      ],
      "metadata": {
        "colab": {
          "base_uri": "https://localhost:8080/"
        },
        "id": "TV_FxYAaqTf8",
        "outputId": "af7e146b-8b64-4a7b-c8cc-e8b2cb32954f"
      },
      "execution_count": null,
      "outputs": [
        {
          "output_type": "execute_result",
          "data": {
            "text/plain": [
              "array([1.])"
            ]
          },
          "metadata": {},
          "execution_count": 42
        }
      ]
    },
    {
      "cell_type": "code",
      "source": [
        "from sklearn.feature_extraction.text import CountVectorizer\n",
        "vectorizer=CountVectorizer()\n",
        "import pickle\n",
        "with open(\"vector_model\",\"wb\") as f:\n",
        "  pickle.dump(vectorizer,f)"
      ],
      "metadata": {
        "id": "Y9rDHHkCx5uY"
      },
      "execution_count": null,
      "outputs": []
    },
    {
      "cell_type": "code",
      "source": [],
      "metadata": {
        "id": "7BTaOrWeAVJA"
      },
      "execution_count": null,
      "outputs": []
    }
  ]
}